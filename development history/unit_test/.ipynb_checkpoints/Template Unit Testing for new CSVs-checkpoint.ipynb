{
 "cells": [
  {
   "cell_type": "code",
   "execution_count": 33,
   "metadata": {},
   "outputs": [],
   "source": [
    "import pandas as pd\n",
    "import glob\n",
    "import csv\n",
    "import re\n",
    "import numpy as np"
   ]
  },
  {
   "cell_type": "code",
   "execution_count": 38,
   "metadata": {},
   "outputs": [
    {
     "name": "stdout",
     "output_type": "stream",
     "text": [
      "['aadw_2017.csv']\n",
      "output/aadw_2017.csv has been initialized\n"
     ]
    },
    {
     "data": {
      "text/html": [
       "<div>\n",
       "<style scoped>\n",
       "    .dataframe tbody tr th:only-of-type {\n",
       "        vertical-align: middle;\n",
       "    }\n",
       "\n",
       "    .dataframe tbody tr th {\n",
       "        vertical-align: top;\n",
       "    }\n",
       "\n",
       "    .dataframe thead th {\n",
       "        text-align: right;\n",
       "    }\n",
       "</style>\n",
       "<table border=\"1\" class=\"dataframe\">\n",
       "  <thead>\n",
       "    <tr style=\"text-align: right;\">\n",
       "      <th></th>\n",
       "      <th>Section ID</th>\n",
       "      <th>STD Street</th>\n",
       "      <th>Block Num</th>\n",
       "      <th>Direction</th>\n",
       "      <th>Year</th>\n",
       "      <th>Day of Week</th>\n",
       "      <th>AADW</th>\n",
       "      <th>Hr Cnt</th>\n",
       "      <th>X</th>\n",
       "      <th>Y</th>\n",
       "      <th>Longitude</th>\n",
       "      <th>Latitude</th>\n",
       "      <th>geopoint</th>\n",
       "    </tr>\n",
       "  </thead>\n",
       "  <tbody>\n",
       "    <tr>\n",
       "      <th>0</th>\n",
       "      <td>166.0</td>\n",
       "      <td>W GEORGIA ST</td>\n",
       "      <td>1900.0</td>\n",
       "      <td>E</td>\n",
       "      <td>2016.0</td>\n",
       "      <td>Monday</td>\n",
       "      <td>30946.0</td>\n",
       "      <td>1080.0</td>\n",
       "      <td>490110.9378</td>\n",
       "      <td>5.460155e+06</td>\n",
       "      <td>-123.136005</td>\n",
       "      <td>49.29406</td>\n",
       "      <td>49.2940601959,-123.136005118</td>\n",
       "    </tr>\n",
       "    <tr>\n",
       "      <th>1</th>\n",
       "      <td>166.0</td>\n",
       "      <td>W GEORGIA ST</td>\n",
       "      <td>1900.0</td>\n",
       "      <td>E</td>\n",
       "      <td>2016.0</td>\n",
       "      <td>Wednesday</td>\n",
       "      <td>32764.0</td>\n",
       "      <td>1080.0</td>\n",
       "      <td>490110.9378</td>\n",
       "      <td>5.460155e+06</td>\n",
       "      <td>-123.136005</td>\n",
       "      <td>49.29406</td>\n",
       "      <td>49.2940601959,-123.136005118</td>\n",
       "    </tr>\n",
       "    <tr>\n",
       "      <th>2</th>\n",
       "      <td>166.0</td>\n",
       "      <td>W GEORGIA ST</td>\n",
       "      <td>1900.0</td>\n",
       "      <td>E</td>\n",
       "      <td>2016.0</td>\n",
       "      <td>Friday</td>\n",
       "      <td>32489.0</td>\n",
       "      <td>1080.0</td>\n",
       "      <td>490110.9378</td>\n",
       "      <td>5.460155e+06</td>\n",
       "      <td>-123.136005</td>\n",
       "      <td>49.29406</td>\n",
       "      <td>49.2940601959,-123.136005118</td>\n",
       "    </tr>\n",
       "    <tr>\n",
       "      <th>3</th>\n",
       "      <td>166.0</td>\n",
       "      <td>W GEORGIA ST</td>\n",
       "      <td>1900.0</td>\n",
       "      <td>E</td>\n",
       "      <td>2016.0</td>\n",
       "      <td>Saturday</td>\n",
       "      <td>28415.0</td>\n",
       "      <td>1128.0</td>\n",
       "      <td>490110.9378</td>\n",
       "      <td>5.460155e+06</td>\n",
       "      <td>-123.136005</td>\n",
       "      <td>49.29406</td>\n",
       "      <td>49.2940601959,-123.136005118</td>\n",
       "    </tr>\n",
       "    <tr>\n",
       "      <th>4</th>\n",
       "      <td>166.0</td>\n",
       "      <td>W GEORGIA ST</td>\n",
       "      <td>1900.0</td>\n",
       "      <td>W</td>\n",
       "      <td>2016.0</td>\n",
       "      <td>Tuesday</td>\n",
       "      <td>33558.0</td>\n",
       "      <td>240.0</td>\n",
       "      <td>490110.9378</td>\n",
       "      <td>5.460155e+06</td>\n",
       "      <td>-123.136005</td>\n",
       "      <td>49.29406</td>\n",
       "      <td>49.2940601959,-123.136005118</td>\n",
       "    </tr>\n",
       "  </tbody>\n",
       "</table>\n",
       "</div>"
      ],
      "text/plain": [
       "   Section ID    STD Street  Block Num Direction    Year Day of Week     AADW  \\\n",
       "0       166.0  W GEORGIA ST     1900.0         E  2016.0      Monday  30946.0   \n",
       "1       166.0  W GEORGIA ST     1900.0         E  2016.0   Wednesday  32764.0   \n",
       "2       166.0  W GEORGIA ST     1900.0         E  2016.0      Friday  32489.0   \n",
       "3       166.0  W GEORGIA ST     1900.0         E  2016.0    Saturday  28415.0   \n",
       "4       166.0  W GEORGIA ST     1900.0         W  2016.0     Tuesday  33558.0   \n",
       "\n",
       "   Hr Cnt            X             Y   Longitude  Latitude  \\\n",
       "0  1080.0  490110.9378  5.460155e+06 -123.136005  49.29406   \n",
       "1  1080.0  490110.9378  5.460155e+06 -123.136005  49.29406   \n",
       "2  1080.0  490110.9378  5.460155e+06 -123.136005  49.29406   \n",
       "3  1128.0  490110.9378  5.460155e+06 -123.136005  49.29406   \n",
       "4   240.0  490110.9378  5.460155e+06 -123.136005  49.29406   \n",
       "\n",
       "                       geopoint  \n",
       "0  49.2940601959,-123.136005118  \n",
       "1  49.2940601959,-123.136005118  \n",
       "2  49.2940601959,-123.136005118  \n",
       "3  49.2940601959,-123.136005118  \n",
       "4  49.2940601959,-123.136005118  "
      ]
     },
     "execution_count": 38,
     "metadata": {},
     "output_type": "execute_result"
    }
   ],
   "source": [
    "extension = 'csv'\n",
    "\n",
    "#grab all results with .csv\n",
    "result = glob.glob('*.{}'.format(extension))\n",
    "print(result)\n",
    "\n",
    "#initilize output\n",
    "with open('output/' +str(result[0]), 'w') as csvFile:\n",
    "    csvFile.close()\n",
    "print('output/'+str(result[0]) + \" has been initialized\")\n",
    "\n",
    "#specify list of delimiters\n",
    "delimiter_list = [';']\n",
    "\n",
    "#read file\n",
    "df = pd.read_csv(result[0])\n",
    "\n",
    "#check the first column of a csv, see if there are any delimiters, if there are, use that to read\n",
    "for items in delimiter_list:\n",
    "    x = re.findall(items, df.columns[0])\n",
    "    if len(x) > 0:\n",
    "        df = pd.read_csv(result[0], items)\n",
    "df.head()\n"
   ]
  },
  {
   "cell_type": "code",
   "execution_count": 39,
   "metadata": {},
   "outputs": [
    {
     "name": "stdout",
     "output_type": "stream",
     "text": [
      "output/aadw_2017.csv has been updated with a title\n"
     ]
    }
   ],
   "source": [
    "n_rows = df.shape[0]\n",
    "n_columns = df.shape[1]\n",
    "\n",
    "\n",
    "with open('output/' +str(result[0]), 'a') as csvFile:\n",
    "\n",
    "    #declare csv writer, delimiter = ' ' for writing stuff into a once cell\n",
    "    writer = csv.writer(csvFile, delimiter = ' ')\n",
    "    #excute a writerow command, can be list, dictionary, etc.\n",
    "\n",
    "    #insert file name\n",
    "    writer.writerow(['File Name : '+str(result[0])])\n",
    "    #insert number of rows\n",
    "    writer.writerow([\"There are \" +str(n_rows) + \" rows\"])\n",
    "    #insert number of columns\n",
    "    writer.writerow([\"There are \" +str(n_columns) + \" columns\"])\n",
    "csvFile.close()\n",
    "print('output/'+str(result[0]) +' has been updated with a title')"
   ]
  },
  {
   "cell_type": "code",
   "execution_count": 40,
   "metadata": {},
   "outputs": [],
   "source": [
    "my_dict = {}\n",
    "my_dict.update([(0, df.loc[0,:]),(1, df.loc[1,:])])\n",
    "summary = pd.DataFrame.from_dict(my_dict)\n",
    "summary = summary.T\n"
   ]
  },
  {
   "cell_type": "code",
   "execution_count": 41,
   "metadata": {},
   "outputs": [
    {
     "name": "stdout",
     "output_type": "stream",
     "text": [
      "output/aadw_2017.csv has been updated with a summary\n"
     ]
    }
   ],
   "source": [
    "with open('output/' +str(result[0]), 'a') as csvfile:\n",
    "    fieldnames =summary.columns\n",
    "    writer = csv.DictWriter(csvfile, fieldnames=fieldnames)\n",
    "    writer.writeheader()\n",
    "\n",
    "    #unpack dictionary\n",
    "    for i in range(2):\n",
    "        #declare dictionary\n",
    "        dict1 = {}\n",
    "        for items in summary.columns:\n",
    "            #append items into dict1\n",
    "            dict1.update([ (items, summary[items][i])])\n",
    "        writer.writerow(dict1)\n",
    "    writer_linebreak = csv.writer(csvfile, delimiter = ' ')\n",
    "print('output/'+str(result[0]) +' has been updated with a summary')"
   ]
  },
  {
   "cell_type": "markdown",
   "metadata": {},
   "source": [
    "aadw_2017.csv summary:\n",
    "    csv does not have an index \n",
    "    csv is ';' seperated"
   ]
  },
  {
   "cell_type": "markdown",
   "metadata": {},
   "source": [
    "to do:\n",
    "    add delimited = ; -> done\n",
    "    add index if there is no index\n",
    "    also, # of column includes index right now. gotta deal with that"
   ]
  }
 ],
 "metadata": {
  "kernelspec": {
   "display_name": "Python 3",
   "language": "python",
   "name": "python3"
  },
  "language_info": {
   "codemirror_mode": {
    "name": "ipython",
    "version": 3
   },
   "file_extension": ".py",
   "mimetype": "text/x-python",
   "name": "python",
   "nbconvert_exporter": "python",
   "pygments_lexer": "ipython3",
   "version": "3.7.3"
  }
 },
 "nbformat": 4,
 "nbformat_minor": 2
}
