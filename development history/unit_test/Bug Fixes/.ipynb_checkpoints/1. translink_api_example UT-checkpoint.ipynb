{
 "cells": [
  {
   "cell_type": "markdown",
   "metadata": {},
   "source": [
    "## README\n",
    "\n",
    "csvs info:\n",
    "the csv already has an index column that is unnamed\n",
    "the resultin summary is grea, but has a column called 'Unnamed:0'\n",
    "\n",
    "added \n",
    "summary = summary.rename(columns={\"Unnamed: 0\": \"Row #\"})\n",
    "\n",
    "fieldnames =summary.columns\n",
    "\n",
    "\n"
   ]
  },
  {
   "cell_type": "code",
   "execution_count": 1,
   "metadata": {},
   "outputs": [],
   "source": [
    "import pandas as pd\n",
    "import glob\n",
    "import csv\n",
    "import re\n",
    "\n",
    "import numpy as np"
   ]
  },
  {
   "cell_type": "code",
   "execution_count": 11,
   "metadata": {},
   "outputs": [
    {
     "name": "stdout",
     "output_type": "stream",
     "text": [
      "['translink-api-example.csv']\n",
      "output/translink-api-example.csv has been initialized\n"
     ]
    },
    {
     "data": {
      "text/html": [
       "<div>\n",
       "<style scoped>\n",
       "    .dataframe tbody tr th:only-of-type {\n",
       "        vertical-align: middle;\n",
       "    }\n",
       "\n",
       "    .dataframe tbody tr th {\n",
       "        vertical-align: top;\n",
       "    }\n",
       "\n",
       "    .dataframe thead th {\n",
       "        text-align: right;\n",
       "    }\n",
       "</style>\n",
       "<table border=\"1\" class=\"dataframe\">\n",
       "  <thead>\n",
       "    <tr style=\"text-align: right;\">\n",
       "      <th></th>\n",
       "      <th>Unnamed: 0</th>\n",
       "      <th>Destination</th>\n",
       "      <th>Direction</th>\n",
       "      <th>Latitude</th>\n",
       "      <th>Longitude</th>\n",
       "      <th>Pattern</th>\n",
       "      <th>RecordedTime</th>\n",
       "      <th>RouteMap.Href</th>\n",
       "      <th>RouteNo</th>\n",
       "      <th>TripId</th>\n",
       "      <th>VehicleNo</th>\n",
       "    </tr>\n",
       "  </thead>\n",
       "  <tbody>\n",
       "    <tr>\n",
       "      <th>0</th>\n",
       "      <td>0</td>\n",
       "      <td>BLUERIDGE</td>\n",
       "      <td>EAST</td>\n",
       "      <td>49.305267</td>\n",
       "      <td>-123.028750</td>\n",
       "      <td>E2C</td>\n",
       "      <td>09:46:34 pm</td>\n",
       "      <td>https://nb.translink.ca/geodata/214.kmz</td>\n",
       "      <td>214</td>\n",
       "      <td>11153096</td>\n",
       "      <td>11302</td>\n",
       "    </tr>\n",
       "    <tr>\n",
       "      <th>1</th>\n",
       "      <td>1</td>\n",
       "      <td>METROTOWN STN</td>\n",
       "      <td>WEST</td>\n",
       "      <td>49.212083</td>\n",
       "      <td>-122.958783</td>\n",
       "      <td>WB1</td>\n",
       "      <td>09:46:44 pm</td>\n",
       "      <td>https://nb.translink.ca/geodata/147.kmz</td>\n",
       "      <td>147</td>\n",
       "      <td>10786035</td>\n",
       "      <td>11324</td>\n",
       "    </tr>\n",
       "    <tr>\n",
       "      <th>2</th>\n",
       "      <td>2</td>\n",
       "      <td>RIVERPORT</td>\n",
       "      <td>EAST</td>\n",
       "      <td>49.140700</td>\n",
       "      <td>-123.103367</td>\n",
       "      <td>EB1</td>\n",
       "      <td>09:46:26 pm</td>\n",
       "      <td>https://nb.translink.ca/geodata/413.kmz</td>\n",
       "      <td>413</td>\n",
       "      <td>10808118</td>\n",
       "      <td>11325</td>\n",
       "    </tr>\n",
       "    <tr>\n",
       "      <th>3</th>\n",
       "      <td>3</td>\n",
       "      <td>UBC</td>\n",
       "      <td>WEST</td>\n",
       "      <td>49.225050</td>\n",
       "      <td>-123.059550</td>\n",
       "      <td>WB1</td>\n",
       "      <td>09:46:50 pm</td>\n",
       "      <td>https://nb.translink.ca/geodata/049.kmz</td>\n",
       "      <td>49</td>\n",
       "      <td>10774670</td>\n",
       "      <td>12002</td>\n",
       "    </tr>\n",
       "    <tr>\n",
       "      <th>4</th>\n",
       "      <td>4</td>\n",
       "      <td>UBC</td>\n",
       "      <td>WEST</td>\n",
       "      <td>49.262383</td>\n",
       "      <td>-123.242050</td>\n",
       "      <td>WB1</td>\n",
       "      <td>09:46:38 pm</td>\n",
       "      <td>https://nb.translink.ca/geodata/049.kmz</td>\n",
       "      <td>49</td>\n",
       "      <td>10774703</td>\n",
       "      <td>12012</td>\n",
       "    </tr>\n",
       "  </tbody>\n",
       "</table>\n",
       "</div>"
      ],
      "text/plain": [
       "   Unnamed: 0    Destination Direction   Latitude   Longitude Pattern  \\\n",
       "0           0      BLUERIDGE      EAST  49.305267 -123.028750     E2C   \n",
       "1           1  METROTOWN STN      WEST  49.212083 -122.958783     WB1   \n",
       "2           2      RIVERPORT      EAST  49.140700 -123.103367     EB1   \n",
       "3           3            UBC      WEST  49.225050 -123.059550     WB1   \n",
       "4           4            UBC      WEST  49.262383 -123.242050     WB1   \n",
       "\n",
       "  RecordedTime                            RouteMap.Href  RouteNo    TripId  \\\n",
       "0  09:46:34 pm  https://nb.translink.ca/geodata/214.kmz      214  11153096   \n",
       "1  09:46:44 pm  https://nb.translink.ca/geodata/147.kmz      147  10786035   \n",
       "2  09:46:26 pm  https://nb.translink.ca/geodata/413.kmz      413  10808118   \n",
       "3  09:46:50 pm  https://nb.translink.ca/geodata/049.kmz       49  10774670   \n",
       "4  09:46:38 pm  https://nb.translink.ca/geodata/049.kmz       49  10774703   \n",
       "\n",
       "   VehicleNo  \n",
       "0      11302  \n",
       "1      11324  \n",
       "2      11325  \n",
       "3      12002  \n",
       "4      12012  "
      ]
     },
     "execution_count": 11,
     "metadata": {},
     "output_type": "execute_result"
    }
   ],
   "source": [
    "extension = 'csv'\n",
    "\n",
    "#grab all results with .csv\n",
    "result = glob.glob('*.{}'.format(extension))\n",
    "print(result)\n",
    "\n",
    "#initilize output\n",
    "with open('output/' +str(result[0]), 'w') as csvFile:\n",
    "    csvFile.close()\n",
    "print('output/'+str(result[0]) + \" has been initialized\")\n",
    "\n",
    "#specify list of delimiters\n",
    "delimiter_list = [';']\n",
    "\n",
    "#read file\n",
    "df = pd.read_csv(result[0])\n",
    "\n",
    "#check the first column of a csv, see if there are any delimiters, if there are, use that to read\n",
    "for items in delimiter_list:\n",
    "    x = re.findall(items, df.columns[0])\n",
    "    if len(x) > 0:\n",
    "        df = pd.read_csv(result[0], items)\n",
    "        \n",
    "df.head()"
   ]
  },
  {
   "cell_type": "code",
   "execution_count": 9,
   "metadata": {},
   "outputs": [
    {
     "name": "stdout",
     "output_type": "stream",
     "text": [
      "output/aadw_2017.csv has been updated with a title\n"
     ]
    }
   ],
   "source": [
    "\n",
    "n_rows = df.shape[0]\n",
    "n_columns = df.shape[1]\n",
    "\n",
    "\n",
    "with open('output/' +str(result[0]), 'a') as csvFile:\n",
    "\n",
    "    #declare csv writer, delimiter = ' ' for writing stuff into a once cell\n",
    "    writer = csv.writer(csvFile, delimiter = ' ')\n",
    "    #excute a writerow command, can be list, dictionary, etc.\n",
    "\n",
    "    #insert file name\n",
    "    writer.writerow(['File Name : '+str(result[0])])\n",
    "    #insert number of rows\n",
    "    writer.writerow([\"There are \" +str(n_rows) + \" rows\"])\n",
    "    #insert number of columns\n",
    "    writer.writerow([\"There are \" +str(n_columns) + \" columns\"])\n",
    "csvFile.close()\n",
    "print('output/'+str(result[0]) +' has been updated with a title')"
   ]
  },
  {
   "cell_type": "code",
   "execution_count": 10,
   "metadata": {},
   "outputs": [],
   "source": [
    "my_dict = {}\n",
    "my_dict.update([(0, df.loc[0,:]),(1, df.loc[1,:])])\n",
    "summary = pd.DataFrame.from_dict(my_dict)\n",
    "summary = summary.T\n"
   ]
  },
  {
   "cell_type": "code",
   "execution_count": 4,
   "metadata": {},
   "outputs": [],
   "source": [
    "summary = summary.rename(columns={\"Unnamed: 0\": \"Row #\"})"
   ]
  },
  {
   "cell_type": "code",
   "execution_count": 5,
   "metadata": {},
   "outputs": [
    {
     "data": {
      "text/plain": [
       "Index(['Section ID', 'STD Street', 'Block Num', 'Direction', 'Year',\n",
       "       'Day of Week', 'AADW', 'Hr Cnt', 'X', 'Y', 'Longitude', 'Latitude',\n",
       "       'geopoint'],\n",
       "      dtype='object')"
      ]
     },
     "execution_count": 5,
     "metadata": {},
     "output_type": "execute_result"
    }
   ],
   "source": [
    "summary.columns"
   ]
  },
  {
   "cell_type": "code",
   "execution_count": 6,
   "metadata": {},
   "outputs": [
    {
     "name": "stdout",
     "output_type": "stream",
     "text": [
      "output/aadw_2017.csv has been updated with a summary\n"
     ]
    }
   ],
   "source": [
    "with open('output/' +str(result[0]), 'a') as csvfile:\n",
    "    fieldnames =summary.columns\n",
    "    writer = csv.DictWriter(csvfile, fieldnames=fieldnames)\n",
    "    writer.writeheader()\n",
    "\n",
    "    #unpack dictionary\n",
    "    for i in range(2):\n",
    "        #declare dictionary\n",
    "        dict1 = {}\n",
    "        for items in summary.columns:\n",
    "            #append items into dict1\n",
    "            dict1.update([ (items, summary[items][i])])\n",
    "        writer.writerow(dict1)\n",
    "    writer_linebreak = csv.writer(csvfile, delimiter = ' ')\n",
    "print('output/'+str(result[0]) +' has been updated with a summary')"
   ]
  },
  {
   "cell_type": "code",
   "execution_count": null,
   "metadata": {},
   "outputs": [],
   "source": []
  }
 ],
 "metadata": {
  "kernelspec": {
   "display_name": "Python 3",
   "language": "python",
   "name": "python3"
  },
  "language_info": {
   "codemirror_mode": {
    "name": "ipython",
    "version": 3
   },
   "file_extension": ".py",
   "mimetype": "text/x-python",
   "name": "python",
   "nbconvert_exporter": "python",
   "pygments_lexer": "ipython3",
   "version": "3.7.3"
  }
 },
 "nbformat": 4,
 "nbformat_minor": 2
}
