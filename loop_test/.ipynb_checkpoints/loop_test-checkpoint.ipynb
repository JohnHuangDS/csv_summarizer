{
 "cells": [
  {
   "cell_type": "code",
   "execution_count": 18,
   "metadata": {},
   "outputs": [],
   "source": [
    "import pandas as pd\n",
    "import glob\n",
    "import csv\n",
    "import re\n",
    "import numpy as np"
   ]
  },
  {
   "cell_type": "code",
   "execution_count": 31,
   "metadata": {},
   "outputs": [],
   "source": [
    "def init_summary_csv():\n",
    "    csv_list = search_csv()\n",
    "    with open('output/summary.csv', 'w') as csvFile:\n",
    "        writer = csv.writer(csvFile, delimiter = ' ')\n",
    "        writer.writerow(['Total Number of CSV files: '+str(len(csv_list))])\n",
    "        csvFile.close()\n",
    "    return(\"summary.csv initialized\")"
   ]
  },
  {
   "cell_type": "code",
   "execution_count": 32,
   "metadata": {},
   "outputs": [],
   "source": [
    "def search_csv():\n",
    "    extension = 'csv'\n",
    "\n",
    "    #grab all results with .csv\n",
    "    result = glob.glob('*.{}'.format(extension))\n",
    "    return(result)"
   ]
  },
  {
   "cell_type": "code",
   "execution_count": 33,
   "metadata": {},
   "outputs": [],
   "source": [
    "def my_read_csv(list_of_csvfiles):\n",
    "\n",
    "    #for csvs in list_of_csv:\n",
    "        #specify list of delimiters\n",
    "    delimiter_list = [';']\n",
    "\n",
    "    #read file\n",
    "    df = pd.read_csv(list_of_csvfiles)\n",
    "\n",
    "    #check the first column of a csv, see if there are any delimiters, if there are, use that to read\n",
    "    for items in delimiter_list:\n",
    "        x = re.findall(items, df.columns[0])\n",
    "        if len(x) > 0:\n",
    "            df = pd.read_csv(list_of_csvfiles, items)\n",
    "    # Check to see if the first column is Row ID\n",
    "    if df.columns[0] != 'Unnamed: 0':\n",
    "        index =range(df.shape[0])\n",
    "        df.insert(0, \"Row #\", index) \n",
    "        \n",
    "    return(df)"
   ]
  },
  {
   "cell_type": "code",
   "execution_count": 34,
   "metadata": {},
   "outputs": [],
   "source": [
    "def write_csv_info(df,csv_name):\n",
    "    n_rows = df.shape[0]\n",
    "    n_columns = df.shape[1] - 1\n",
    "    \n",
    "    \n",
    "    with open('output/summary.csv', 'a') as csvFile:\n",
    "    \n",
    "        #declare csv writer, delimiter = ' ' for writing stuff into a once cell\n",
    "        writer = csv.writer(csvFile, delimiter = ' ')\n",
    "        #excute a writerow command, can be list, dictionary, etc.\n",
    "\n",
    "        #insert file name\n",
    "        writer.writerow(['File Name : '+str(csv_name)])\n",
    "        #insert number of rows\n",
    "        writer.writerow([\"There are \" +str(n_rows) + \" rows\"])\n",
    "        #insert number of columns\n",
    "        writer.writerow([\"There are \" +str(n_columns) + \" columns\"])\n",
    "    csvFile.close()\n",
    "    return('summary.csv has been updated with ' +str(csv_name) + \" title\")"
   ]
  },
  {
   "cell_type": "code",
   "execution_count": 35,
   "metadata": {},
   "outputs": [],
   "source": [
    "def write_csv_rows(df):\n",
    "    # Create Summary Dictionary\n",
    "    \n",
    "    my_dict = {}\n",
    "    my_dict.update([(0, df.loc[0,:]),(1, df.loc[1,:])])\n",
    "    summary = pd.DataFrame.from_dict(my_dict)\n",
    "    summary = summary.T\n",
    "    \n",
    "    #need to add an index if df doesnt come with one\n",
    "    summary = summary.rename(columns={\"Unnamed: 0\": \"Row #\"})\n",
    "    with open('output/summary.csv', 'a') as csvfile:\n",
    "        fieldnames =summary.columns\n",
    "        writer = csv.DictWriter(csvfile, fieldnames=fieldnames)\n",
    "        writer.writeheader()\n",
    "\n",
    "        #unpack dictionary\n",
    "        for i in range(2):\n",
    "            #declare dictionary\n",
    "            dict1 = {}\n",
    "            for items in summary.columns:\n",
    "                #append items into dict1\n",
    "                dict1.update([ (items, summary[items][i])])\n",
    "            writer.writerow(dict1)\n",
    "        writer_linebreak = csv.writer(csvfile, delimiter = ' ')\n"
   ]
  },
  {
   "cell_type": "code",
   "execution_count": 36,
   "metadata": {},
   "outputs": [],
   "source": [
    "# Create a linebreak for the next csv\n",
    "def write_csv_linebreak(df):    \n",
    "    with open('output/summary.csv', 'a') as csvFile:\n",
    "\n",
    "        #declare csv writer, delimiter = ' ' for writing stuff into a once cell\n",
    "        writer = csv.writer(csvFile, delimiter = ' ')\n",
    "        #excute a writerow command, can be list, dictionary, etc.\n",
    "\n",
    "        #insert linebreak\n",
    "        writer.writerow([\" \"])\n",
    "        #insert number of columns\n",
    "    csvFile.close()"
   ]
  },
  {
   "cell_type": "code",
   "execution_count": 37,
   "metadata": {},
   "outputs": [
    {
     "name": "stdout",
     "output_type": "stream",
     "text": [
      "translink_api_example.csv\n",
      "ambulance_data.csv\n",
      "aadw_2017.csv\n"
     ]
    }
   ],
   "source": [
    "# Run this block to produce a summary.csv\n",
    "\n",
    "csv_list = search_csv()\n",
    "init_summary_csv()\n",
    "for items in csv_list:\n",
    "    print(items)\n",
    "    df = my_read_csv(items)\n",
    "    write_csv_info(df, items)\n",
    "    write_csv_rows(df)\n",
    "    write_csv_linebreak(df)"
   ]
  },
  {
   "cell_type": "code",
   "execution_count": 28,
   "metadata": {},
   "outputs": [
    {
     "data": {
      "text/plain": [
       "3"
      ]
     },
     "execution_count": 28,
     "metadata": {},
     "output_type": "execute_result"
    }
   ],
   "source": [
    "len(csv_list)"
   ]
  },
  {
   "cell_type": "code",
   "execution_count": null,
   "metadata": {},
   "outputs": [],
   "source": []
  }
 ],
 "metadata": {
  "kernelspec": {
   "display_name": "Python 3",
   "language": "python",
   "name": "python3"
  },
  "language_info": {
   "codemirror_mode": {
    "name": "ipython",
    "version": 3
   },
   "file_extension": ".py",
   "mimetype": "text/x-python",
   "name": "python",
   "nbconvert_exporter": "python",
   "pygments_lexer": "ipython3",
   "version": "3.7.3"
  }
 },
 "nbformat": 4,
 "nbformat_minor": 2
}
