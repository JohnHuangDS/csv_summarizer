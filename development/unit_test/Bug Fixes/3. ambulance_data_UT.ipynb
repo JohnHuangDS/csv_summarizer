{
 "cells": [
  {
   "cell_type": "code",
   "execution_count": 1,
   "metadata": {},
   "outputs": [],
   "source": [
    "import pandas as pd\n",
    "import glob\n",
    "import csv\n",
    "import re\n",
    "import numpy as np"
   ]
  },
  {
   "cell_type": "code",
   "execution_count": 2,
   "metadata": {},
   "outputs": [
    {
     "name": "stdout",
     "output_type": "stream",
     "text": [
      "['ambulance_data.csv']\n",
      "output/ambulance_data.csv has been initialized\n"
     ]
    },
    {
     "data": {
      "text/html": [
       "<div>\n",
       "<style scoped>\n",
       "    .dataframe tbody tr th:only-of-type {\n",
       "        vertical-align: middle;\n",
       "    }\n",
       "\n",
       "    .dataframe tbody tr th {\n",
       "        vertical-align: top;\n",
       "    }\n",
       "\n",
       "    .dataframe thead th {\n",
       "        text-align: right;\n",
       "    }\n",
       "</style>\n",
       "<table border=\"1\" class=\"dataframe\">\n",
       "  <thead>\n",
       "    <tr style=\"text-align: right;\">\n",
       "      <th></th>\n",
       "      <th>CALL_LOCATION</th>\n",
       "      <th>MPDS_SUFFIX</th>\n",
       "      <th>COLLISION_DATE</th>\n",
       "      <th>COLLISION_Hour</th>\n",
       "      <th>SEVERITY</th>\n",
       "      <th>Patient Transported</th>\n",
       "      <th>AGE_GROUP</th>\n",
       "      <th>X</th>\n",
       "      <th>Y</th>\n",
       "      <th>Long</th>\n",
       "      <th>Lat</th>\n",
       "      <th>Location Name</th>\n",
       "      <th>geopoint</th>\n",
       "    </tr>\n",
       "  </thead>\n",
       "  <tbody>\n",
       "    <tr>\n",
       "      <th>0</th>\n",
       "      <td>Vancouver</td>\n",
       "      <td>Auto vs. bicycle/motorcycle</td>\n",
       "      <td>2013-01-01</td>\n",
       "      <td>12-14</td>\n",
       "      <td>3-Missing</td>\n",
       "      <td>Y</td>\n",
       "      <td>60-79</td>\n",
       "      <td>492654.5093</td>\n",
       "      <td>5.456688e+06</td>\n",
       "      <td>-123.100960</td>\n",
       "      <td>49.262913</td>\n",
       "      <td>E BROADWAY AND MAIN ST</td>\n",
       "      <td>49.2629134052,-123.100959559</td>\n",
       "    </tr>\n",
       "    <tr>\n",
       "      <th>1</th>\n",
       "      <td>Vancouver</td>\n",
       "      <td>Auto vs. pedestrian</td>\n",
       "      <td>2013-01-07</td>\n",
       "      <td>06-08</td>\n",
       "      <td>1-Serious</td>\n",
       "      <td>N</td>\n",
       "      <td>15-29</td>\n",
       "      <td>494924.2313</td>\n",
       "      <td>5.456620e+06</td>\n",
       "      <td>-123.069763</td>\n",
       "      <td>49.262319</td>\n",
       "      <td>E BROADWAY AND COMMERCIAL DRIVE</td>\n",
       "      <td>49.2623194093,-123.069762691</td>\n",
       "    </tr>\n",
       "    <tr>\n",
       "      <th>2</th>\n",
       "      <td>Vancouver</td>\n",
       "      <td>NaN</td>\n",
       "      <td>2013-01-08</td>\n",
       "      <td>00-02</td>\n",
       "      <td>2-Minor</td>\n",
       "      <td>Y</td>\n",
       "      <td>15-29</td>\n",
       "      <td>485252.1053</td>\n",
       "      <td>5.457666e+06</td>\n",
       "      <td>-123.202737</td>\n",
       "      <td>49.271574</td>\n",
       "      <td>NW MARINE DRIVE AND DISCOVERY ST</td>\n",
       "      <td>49.2715744814,-123.202736889</td>\n",
       "    </tr>\n",
       "    <tr>\n",
       "      <th>3</th>\n",
       "      <td>Vancouver</td>\n",
       "      <td>NaN</td>\n",
       "      <td>2013-01-10</td>\n",
       "      <td>09-11</td>\n",
       "      <td>3-Missing</td>\n",
       "      <td>N</td>\n",
       "      <td>unk</td>\n",
       "      <td>495184.7873</td>\n",
       "      <td>5.450768e+06</td>\n",
       "      <td>-123.066111</td>\n",
       "      <td>49.209690</td>\n",
       "      <td>SE MARINE DRIVE AND VICTORIA DIVERSION</td>\n",
       "      <td>49.209689525,-123.066111263</td>\n",
       "    </tr>\n",
       "    <tr>\n",
       "      <th>4</th>\n",
       "      <td>Vancouver</td>\n",
       "      <td>NaN</td>\n",
       "      <td>2013-01-13</td>\n",
       "      <td>00-02</td>\n",
       "      <td>3-Missing</td>\n",
       "      <td>Y</td>\n",
       "      <td>30-49</td>\n",
       "      <td>491286.0143</td>\n",
       "      <td>5.457021e+06</td>\n",
       "      <td>-123.119776</td>\n",
       "      <td>49.265886</td>\n",
       "      <td>W 6TH AV AND HEATHER ST</td>\n",
       "      <td>49.2658863908,-123.119775938</td>\n",
       "    </tr>\n",
       "  </tbody>\n",
       "</table>\n",
       "</div>"
      ],
      "text/plain": [
       "  CALL_LOCATION                  MPDS_SUFFIX COLLISION_DATE COLLISION_Hour  \\\n",
       "0     Vancouver  Auto vs. bicycle/motorcycle     2013-01-01          12-14   \n",
       "1     Vancouver          Auto vs. pedestrian     2013-01-07          06-08   \n",
       "2     Vancouver                          NaN     2013-01-08          00-02   \n",
       "3     Vancouver                          NaN     2013-01-10          09-11   \n",
       "4     Vancouver                          NaN     2013-01-13          00-02   \n",
       "\n",
       "    SEVERITY Patient Transported AGE_GROUP            X             Y  \\\n",
       "0  3-Missing                   Y     60-79  492654.5093  5.456688e+06   \n",
       "1  1-Serious                   N     15-29  494924.2313  5.456620e+06   \n",
       "2    2-Minor                   Y     15-29  485252.1053  5.457666e+06   \n",
       "3  3-Missing                   N       unk  495184.7873  5.450768e+06   \n",
       "4  3-Missing                   Y     30-49  491286.0143  5.457021e+06   \n",
       "\n",
       "         Long        Lat                           Location Name  \\\n",
       "0 -123.100960  49.262913                  E BROADWAY AND MAIN ST   \n",
       "1 -123.069763  49.262319         E BROADWAY AND COMMERCIAL DRIVE   \n",
       "2 -123.202737  49.271574        NW MARINE DRIVE AND DISCOVERY ST   \n",
       "3 -123.066111  49.209690  SE MARINE DRIVE AND VICTORIA DIVERSION   \n",
       "4 -123.119776  49.265886                 W 6TH AV AND HEATHER ST   \n",
       "\n",
       "                       geopoint  \n",
       "0  49.2629134052,-123.100959559  \n",
       "1  49.2623194093,-123.069762691  \n",
       "2  49.2715744814,-123.202736889  \n",
       "3   49.209689525,-123.066111263  \n",
       "4  49.2658863908,-123.119775938  "
      ]
     },
     "execution_count": 2,
     "metadata": {},
     "output_type": "execute_result"
    }
   ],
   "source": [
    "extension = 'csv'\n",
    "\n",
    "#grab all results with .csv\n",
    "result = glob.glob('*.{}'.format(extension))\n",
    "print(result)\n",
    "\n",
    "#initilize output\n",
    "with open('output/' +str(result[0]), 'w') as csvFile:\n",
    "    csvFile.close()\n",
    "print('output/'+str(result[0]) + \" has been initialized\")\n",
    "\n",
    "#specify list of delimiters\n",
    "delimiter_list = [';']\n",
    "\n",
    "#read file\n",
    "df = pd.read_csv(result[0])\n",
    "\n",
    "#check the first column of a csv, see if there are any delimiters, if there are, use that to read\n",
    "for items in delimiter_list:\n",
    "    x = re.findall(items, df.columns[0])\n",
    "    if len(x) > 0:\n",
    "        df = pd.read_csv(result[0], items)\n",
    "df.head()\n"
   ]
  },
  {
   "cell_type": "code",
   "execution_count": 3,
   "metadata": {},
   "outputs": [],
   "source": [
    "# Check to see if the first column is Row ID\n",
    "if df.columns[0] != 'Unnamed: 0':\n",
    "    index =range(df.shape[0])\n",
    "    df.insert(0, \"Row #\", index) "
   ]
  },
  {
   "cell_type": "code",
   "execution_count": 4,
   "metadata": {},
   "outputs": [
    {
     "name": "stdout",
     "output_type": "stream",
     "text": [
      "output/ambulance_data.csv has been updated with a title\n"
     ]
    }
   ],
   "source": [
    "n_rows = df.shape[0]\n",
    "n_columns = df.shape[1] - 1\n",
    "\n",
    "\n",
    "with open('output/' +str(result[0]), 'a') as csvFile:\n",
    "\n",
    "    #declare csv writer, delimiter = ' ' for writing stuff into a once cell\n",
    "    writer = csv.writer(csvFile, delimiter = ' ')\n",
    "    #excute a writerow command, can be list, dictionary, etc.\n",
    "\n",
    "    #insert file name\n",
    "    writer.writerow(['File Name : '+str(result[0])])\n",
    "    #insert number of rows\n",
    "    writer.writerow([\"There are \" +str(n_rows) + \" rows\"])\n",
    "    #insert number of columns\n",
    "    writer.writerow([\"There are \" +str(n_columns) + \" columns\"])\n",
    "csvFile.close()\n",
    "print('output/'+str(result[0]) +' has been updated with a title')"
   ]
  },
  {
   "cell_type": "code",
   "execution_count": 5,
   "metadata": {},
   "outputs": [],
   "source": [
    "my_dict = {}\n",
    "my_dict.update([(0, df.loc[0,:]),(1, df.loc[1,:])])\n",
    "summary = pd.DataFrame.from_dict(my_dict)\n",
    "summary = summary.T\n"
   ]
  },
  {
   "cell_type": "code",
   "execution_count": 6,
   "metadata": {},
   "outputs": [
    {
     "name": "stdout",
     "output_type": "stream",
     "text": [
      "output/ambulance_data.csv has been updated with a summary\n"
     ]
    }
   ],
   "source": [
    "with open('output/' +str(result[0]), 'a') as csvfile:\n",
    "    fieldnames =summary.columns\n",
    "    writer = csv.DictWriter(csvfile, fieldnames=fieldnames)\n",
    "    writer.writeheader()\n",
    "\n",
    "    #unpack dictionary\n",
    "    for i in range(2):\n",
    "        #declare dictionary\n",
    "        dict1 = {}\n",
    "        for items in summary.columns:\n",
    "            #append items into dict1\n",
    "            dict1.update([ (items, summary[items][i])])\n",
    "        writer.writerow(dict1)\n",
    "    writer_linebreak = csv.writer(csvfile, delimiter = ' ')\n",
    "print('output/'+str(result[0]) +' has been updated with a summary')"
   ]
  },
  {
   "cell_type": "code",
   "execution_count": null,
   "metadata": {},
   "outputs": [],
   "source": []
  }
 ],
 "metadata": {
  "kernelspec": {
   "display_name": "Python 3",
   "language": "python",
   "name": "python3"
  },
  "language_info": {
   "codemirror_mode": {
    "name": "ipython",
    "version": 3
   },
   "file_extension": ".py",
   "mimetype": "text/x-python",
   "name": "python",
   "nbconvert_exporter": "python",
   "pygments_lexer": "ipython3",
   "version": "3.7.3"
  }
 },
 "nbformat": 4,
 "nbformat_minor": 2
}
