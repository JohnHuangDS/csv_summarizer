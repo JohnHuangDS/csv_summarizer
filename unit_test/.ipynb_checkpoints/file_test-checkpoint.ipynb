{
 "cells": [
  {
   "cell_type": "code",
   "execution_count": 1,
   "metadata": {},
   "outputs": [],
   "source": [
    "import pandas as pd\n",
    "import glob\n",
    "import csv\n",
    "import re\n",
    "import numpy as np"
   ]
  },
  {
   "cell_type": "code",
   "execution_count": 2,
   "metadata": {},
   "outputs": [],
   "source": [
    "def init_summary_csv():\n",
    "    with open('output/summary.csv', 'w') as csvFile:\n",
    "        csvFile.close()\n",
    "    return(\"summary.csv initialized\")"
   ]
  },
  {
   "cell_type": "code",
   "execution_count": 3,
   "metadata": {},
   "outputs": [],
   "source": [
    "def search_csv():\n",
    "    extension = 'csv'\n",
    "\n",
    "    #grab all results with .csv\n",
    "    result = glob.glob('*.{}'.format(extension))\n",
    "    return(result)"
   ]
  },
  {
   "cell_type": "code",
   "execution_count": 4,
   "metadata": {},
   "outputs": [],
   "source": [
    "def my_read_csv(csvs):\n",
    "\n",
    "    #for csvs in list_of_csv:\n",
    "        #specify list of delimiters\n",
    "    delimiter_list = [';']\n",
    "\n",
    "    #read file\n",
    "    df = pd.read_csv(csvs)\n",
    "\n",
    "    #check the first column of a csv, see if there are any delimiters, if there are, use that to read\n",
    "    for items in delimiter_list:\n",
    "        x = re.findall(items, df.columns[0])\n",
    "        if len(x) > 0:\n",
    "            df = pd.read_csv(csvs, items)\n",
    "    return(df)"
   ]
  },
  {
   "cell_type": "code",
   "execution_count": 5,
   "metadata": {},
   "outputs": [],
   "source": [
    "def write_csv_info(df):\n",
    "    n_rows = df.shape[0]\n",
    "    n_columns = df.shape[1]\n",
    "    \n",
    "    \n",
    "    with open('output/summary.csv', 'a') as csvFile:\n",
    "    \n",
    "        #declare csv writer, delimiter = ' ' for writing stuff into a once cell\n",
    "        writer = csv.writer(csvFile, delimiter = ' ')\n",
    "        #excute a writerow command, can be list, dictionary, etc.\n",
    "\n",
    "        #insert file name\n",
    "        writer.writerow(['File Name : '+str(csv_list)])\n",
    "        #insert number of rows\n",
    "        writer.writerow([\"There are \" +str(n_rows) + \" rows\"])\n",
    "        #insert number of columns\n",
    "        writer.writerow([\"There are \" +str(n_columns) + \" columns\"])\n",
    "    csvFile.close()\n",
    "    return('summary.csv has been updated with ' +str(csv_list) + \" title\")"
   ]
  },
  {
   "cell_type": "code",
   "execution_count": 6,
   "metadata": {},
   "outputs": [],
   "source": [
    "def write_csv_rows(df):\n",
    "    # Create Summary Dictionary\n",
    "    my_dict = {}\n",
    "    for items in df.columns:\n",
    "        #print(items)\n",
    "\n",
    "        #unique items\n",
    "        a = df[(items)].unique()\n",
    "        #sort unique items\n",
    "        a = np.sort(a)\n",
    "        #create list of highest and lowest values after sort\n",
    "        values = [a[0],a[-1]]\n",
    "        #add list to dictionary\n",
    "        my_dict.update([ (items, values)])\n",
    "    \n",
    "    summary3 = pd.DataFrame.from_dict(my_dict)\n",
    "    summary3 = summary3.rename(index={0: \"Lowest-value\", 1: \"Highest-Value\"})\n",
    "    \n",
    "    with open('output/summary.csv', 'a') as csvfile:\n",
    "        fieldnames =df.columns\n",
    "        writer = csv.DictWriter(csvfile, fieldnames=fieldnames)\n",
    "        writer.writeheader()\n",
    "\n",
    "        #unpack dictionary\n",
    "        for i in range(2):\n",
    "            #declare dictionary\n",
    "            dict1 = {}\n",
    "            for items in my_dict:\n",
    "                #append items into dict1\n",
    "                dict1.update([ (items, my_dict[items][i])])\n",
    "            writer.writerow(dict1)\n",
    "        writer_linebreak = csv.writer(csvfile, delimiter = ' ')\n"
   ]
  },
  {
   "cell_type": "code",
   "execution_count": 14,
   "metadata": {},
   "outputs": [],
   "source": [
    "# Create a linebreak for the next csv\n",
    "def write_csv_linebreak(df):    \n",
    "    with open('output/summary.csv', 'a') as csvFile:\n",
    "\n",
    "        #declare csv writer, delimiter = ' ' for writing stuff into a once cell\n",
    "        writer = csv.writer(csvFile, delimiter = ' ')\n",
    "        #excute a writerow command, can be list, dictionary, etc.\n",
    "\n",
    "        #insert linebreak\n",
    "        writer.writerow([\" \"])\n",
    "        #insert number of columns\n",
    "    csvFile.close()"
   ]
  },
  {
   "cell_type": "code",
   "execution_count": 18,
   "metadata": {},
   "outputs": [
    {
     "name": "stdout",
     "output_type": "stream",
     "text": [
      "translink-api-example.csv\n"
     ]
    }
   ],
   "source": [
    "#Execution Block\n",
    "\n",
    "csv_list = search_csv()\n",
    "init_summary_csv()\n",
    "\n",
    "\n",
    "for items in csv_list:\n",
    "    print(items)\n",
    "    df = my_read_csv(items)\n",
    "    write_csv_info(df)\n",
    "    write_csv_rows(df)\n",
    "    write_csv_linebreak(df)"
   ]
  },
  {
   "cell_type": "code",
   "execution_count": 19,
   "metadata": {},
   "outputs": [],
   "source": [
    "csv_list = search_csv()"
   ]
  },
  {
   "cell_type": "code",
   "execution_count": 20,
   "metadata": {},
   "outputs": [
    {
     "data": {
      "text/plain": [
       "['translink-api-example.csv']"
      ]
     },
     "execution_count": 20,
     "metadata": {},
     "output_type": "execute_result"
    }
   ],
   "source": [
    "csv_list"
   ]
  },
  {
   "cell_type": "code",
   "execution_count": null,
   "metadata": {},
   "outputs": [],
   "source": []
  },
  {
   "cell_type": "code",
   "execution_count": null,
   "metadata": {},
   "outputs": [],
   "source": []
  }
 ],
 "metadata": {
  "kernelspec": {
   "display_name": "Python 3",
   "language": "python",
   "name": "python3"
  },
  "language_info": {
   "codemirror_mode": {
    "name": "ipython",
    "version": 3
   },
   "file_extension": ".py",
   "mimetype": "text/x-python",
   "name": "python",
   "nbconvert_exporter": "python",
   "pygments_lexer": "ipython3",
   "version": "3.7.3"
  }
 },
 "nbformat": 4,
 "nbformat_minor": 2
}
