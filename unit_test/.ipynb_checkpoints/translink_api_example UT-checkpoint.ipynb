{
 "cells": [
  {
   "cell_type": "code",
   "execution_count": 7,
   "metadata": {},
   "outputs": [],
   "source": [
    "import pandas as pd\n",
    "import glob\n",
    "import csv\n",
    "import re\n",
    "import numpy as np"
   ]
  },
  {
   "cell_type": "code",
   "execution_count": 9,
   "metadata": {},
   "outputs": [
    {
     "name": "stdout",
     "output_type": "stream",
     "text": [
      "['aadw_2017.csv']\n",
      "output/aadw_2017.csv has been initialized\n",
      "output/aadw_2017.csv has been updated with a title\n"
     ]
    }
   ],
   "source": [
    "extension = 'csv'\n",
    "\n",
    "#grab all results with .csv\n",
    "result = glob.glob('*.{}'.format(extension))\n",
    "print(result)\n",
    "\n",
    "#initilize output\n",
    "with open('output/' +str(result[0]), 'w') as csvFile:\n",
    "    csvFile.close()\n",
    "print('output/'+str(result[0]) + \" has been initialized\")\n",
    "\n",
    "#specify list of delimiters\n",
    "delimiter_list = [';']\n",
    "\n",
    "#read file\n",
    "df = pd.read_csv(result[0])\n",
    "\n",
    "#check the first column of a csv, see if there are any delimiters, if there are, use that to read\n",
    "for items in delimiter_list:\n",
    "    x = re.findall(items, df.columns[0])\n",
    "    if len(x) > 0:\n",
    "        df = pd.read_csv(result[0], items)\n",
    "\n",
    "n_rows = df.shape[0]\n",
    "n_columns = df.shape[1]\n",
    "\n",
    "\n",
    "with open('output/' +str(result[0]), 'a') as csvFile:\n",
    "\n",
    "    #declare csv writer, delimiter = ' ' for writing stuff into a once cell\n",
    "    writer = csv.writer(csvFile, delimiter = ' ')\n",
    "    #excute a writerow command, can be list, dictionary, etc.\n",
    "\n",
    "    #insert file name\n",
    "    writer.writerow(['File Name : '+str(result[0])])\n",
    "    #insert number of rows\n",
    "    writer.writerow([\"There are \" +str(n_rows) + \" rows\"])\n",
    "    #insert number of columns\n",
    "    writer.writerow([\"There are \" +str(n_columns) + \" columns\"])\n",
    "csvFile.close()\n",
    "print('output/'+str(result[0]) +' has been updated with a title')"
   ]
  },
  {
   "cell_type": "code",
   "execution_count": 10,
   "metadata": {},
   "outputs": [],
   "source": [
    "my_dict = {}\n",
    "my_dict.update([(0, df.loc[0,:]),(1, df.loc[1,:])])\n",
    "summary = pd.DataFrame.from_dict(my_dict)\n",
    "summary = summary.T\n"
   ]
  },
  {
   "cell_type": "code",
   "execution_count": 11,
   "metadata": {},
   "outputs": [],
   "source": [
    "summary = summary.rename(columns={\"Unnamed: 0\": \"Row #\"})"
   ]
  },
  {
   "cell_type": "code",
   "execution_count": 12,
   "metadata": {},
   "outputs": [
    {
     "data": {
      "text/plain": [
       "Index(['Section ID', 'STD Street', 'Block Num', 'Direction', 'Year',\n",
       "       'Day of Week', 'AADW', 'Hr Cnt', 'X', 'Y', 'Longitude', 'Latitude',\n",
       "       'geopoint'],\n",
       "      dtype='object')"
      ]
     },
     "execution_count": 12,
     "metadata": {},
     "output_type": "execute_result"
    }
   ],
   "source": [
    "summary.columns"
   ]
  },
  {
   "cell_type": "code",
   "execution_count": 13,
   "metadata": {},
   "outputs": [
    {
     "name": "stdout",
     "output_type": "stream",
     "text": [
      "output/aadw_2017.csv has been updated with a summary\n"
     ]
    }
   ],
   "source": [
    "with open('output/' +str(result[0]), 'a') as csvfile:\n",
    "    fieldnames =summary.columns\n",
    "    writer = csv.DictWriter(csvfile, fieldnames=fieldnames)\n",
    "    writer.writeheader()\n",
    "\n",
    "    #unpack dictionary\n",
    "    for i in range(2):\n",
    "        #declare dictionary\n",
    "        dict1 = {}\n",
    "        for items in summary.columns:\n",
    "            #append items into dict1\n",
    "            dict1.update([ (items, summary[items][i])])\n",
    "        writer.writerow(dict1)\n",
    "    writer_linebreak = csv.writer(csvfile, delimiter = ' ')\n",
    "print('output/'+str(result[0]) +' has been updated with a summary')"
   ]
  },
  {
   "cell_type": "markdown",
   "metadata": {},
   "source": [
    "csvs info:\n",
    "the csv already has an index column that is unnamed\n",
    "the resultin summary is grea, but has a column called 'Unnamed:0'\n",
    "\n",
    "added \n",
    "summary = summary.rename(columns={\"Unnamed: 0\": \"Row #\"})\n",
    "\n",
    "fieldnames =summary.columns\n",
    "\n",
    "\n"
   ]
  },
  {
   "cell_type": "code",
   "execution_count": null,
   "metadata": {},
   "outputs": [],
   "source": []
  }
 ],
 "metadata": {
  "kernelspec": {
   "display_name": "Python 3",
   "language": "python",
   "name": "python3"
  },
  "language_info": {
   "codemirror_mode": {
    "name": "ipython",
    "version": 3
   },
   "file_extension": ".py",
   "mimetype": "text/x-python",
   "name": "python",
   "nbconvert_exporter": "python",
   "pygments_lexer": "ipython3",
   "version": "3.7.3"
  }
 },
 "nbformat": 4,
 "nbformat_minor": 2
}
